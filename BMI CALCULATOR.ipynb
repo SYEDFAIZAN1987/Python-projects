{
 "cells": [
  {
   "cell_type": "code",
   "execution_count": 9,
   "id": "713bcf81-c0fe-4482-bb17-8c064e45777c",
   "metadata": {},
   "outputs": [
    {
     "name": "stdin",
     "output_type": "stream",
     "text": [
      "Enter your name, please :  Faizan\n",
      "Enter your weight in Kgs:  70\n",
      "Enter your height in cms:  172\n"
     ]
    },
    {
     "name": "stdout",
     "output_type": "stream",
     "text": [
      "23.66143861546782\n"
     ]
    }
   ],
   "source": [
    "name = input(\"Enter your name, please : \")\n",
    "\n",
    "weight = int(input(\"Enter your weight in Kgs: \"))\n",
    "\n",
    "height = int(input (\"Enter your height in cms: \"))\n",
    "\n",
    "BMI = ((weight )/( height * height)) * 10000\n",
    "\n",
    "print(BMI)"
   ]
  },
  {
   "cell_type": "code",
   "execution_count": 18,
   "id": "c6a95e52-e79c-43d6-9228-9010b8305208",
   "metadata": {},
   "outputs": [
    {
     "name": "stdout",
     "output_type": "stream",
     "text": [
      "Faizan, You are normal weight. Good\n"
     ]
    }
   ],
   "source": [
    "if BMI >0 :\n",
    "    if(BMI < 18.5 ) : \n",
    "        print(name + \",\" +\" \" + \"You are underweight. Eat more please\")\n",
    "    elif(BMI <= 24.9 ) :\n",
    "        print(name + \",\" +\" \" + \"You are normal weight. Good\")\n",
    "    elif(BMI <= 29.9 ) :\n",
    "        print(name + \",\" +\" \" + \"You are overweight. You need to exercise more\")\n",
    "    elif(BMI <= 34.9 ) :\n",
    "        print(name + \",\" +\" \" + \"You are obese.\")\n",
    "    elif(BMI <= 39.9):\n",
    "        print(name + \",\" +\" \" +  \"You are severely obese.\")\n",
    "    else:\n",
    "        print(name + \",\" +\" \" + \"You are morbidly obese.\")\n",
    "    "
   ]
  },
  {
   "cell_type": "code",
   "execution_count": null,
   "id": "a75596ba-089d-4279-95fe-2f3cf62b264d",
   "metadata": {},
   "outputs": [],
   "source": []
  }
 ],
 "metadata": {
  "kernelspec": {
   "display_name": "Python 3 (ipykernel)",
   "language": "python",
   "name": "python3"
  },
  "language_info": {
   "codemirror_mode": {
    "name": "ipython",
    "version": 3
   },
   "file_extension": ".py",
   "mimetype": "text/x-python",
   "name": "python",
   "nbconvert_exporter": "python",
   "pygments_lexer": "ipython3",
   "version": "3.11.7"
  }
 },
 "nbformat": 4,
 "nbformat_minor": 5
}
