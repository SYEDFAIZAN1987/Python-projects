{
 "cells": [
  {
   "cell_type": "code",
   "execution_count": 7,
   "id": "63331872-fe04-4dee-9a4a-e9869e6683cf",
   "metadata": {},
   "outputs": [],
   "source": [
    "import os, shutil"
   ]
  },
  {
   "cell_type": "code",
   "execution_count": 8,
   "id": "583944db-7091-4c9f-ba11-313aa0433e87",
   "metadata": {},
   "outputs": [],
   "source": [
    "path = r\"C:/Users/user/OneDrive/Desktop/Python file sorter project/\""
   ]
  },
  {
   "cell_type": "code",
   "execution_count": 12,
   "id": "f0664831-54d9-406b-8080-c0a09b7e66c0",
   "metadata": {},
   "outputs": [
    {
     "name": "stdout",
     "output_type": "stream",
     "text": [
      "['0021418217.jpeg', 'csv files', 'Final project Report text .txt', 'image files', 'pdf files', 'Resume of Syed Faizan January 2024.pdf', 'salesREV.csv', 'text files']\n"
     ]
    }
   ],
   "source": [
    "file_name = os.listdir(path)\n",
    "print(file_name)"
   ]
  },
  {
   "cell_type": "code",
   "execution_count": 11,
   "id": "e61781e4-4d6b-47bf-9728-ae27134b7c27",
   "metadata": {},
   "outputs": [],
   "source": [
    "folder_names = ['csv files', 'image files', 'text files', 'pdf files']\n",
    "\n",
    "for loop in range(0,4):\n",
    "      if not os.path.exists(path + folder_names[loop]):\n",
    "          os.makedirs(path + folder_names[loop])\n",
    "           "
   ]
  },
  {
   "cell_type": "code",
   "execution_count": 14,
   "id": "192aaab4-0ff9-410c-92e1-c99301a95e49",
   "metadata": {},
   "outputs": [],
   "source": [
    "for file in file_name:\n",
    "    if \".csv\" in file and not os.path.exists(path + \"csv files/\" + file):\n",
    "        shutil.move(path + file, path + \"csv files/\" + file)\n",
    "    if \".pdf\" in file and not os.path.exists(path + \"pdf files/\" + file):\n",
    "        shutil.move(path + file, path + \"pdf files/\" + file)\n",
    "    if \".jpeg\" in file and not os.path.exists(path + \"image files/\" + file):\n",
    "        shutil.move(path + file, path + \"image files/\" + file)\n",
    "    if \".txt\" in file and not os.path.exists(path + \"text files/\" + file):\n",
    "        shutil.move(path + file, path + \"text files/\" + file)\n",
    "        "
   ]
  },
  {
   "cell_type": "code",
   "execution_count": null,
   "id": "a40fa811-46a6-4809-92c5-09efdaf19a31",
   "metadata": {},
   "outputs": [],
   "source": []
  },
  {
   "cell_type": "code",
   "execution_count": null,
   "id": "0fcffb32-e519-4fa6-9364-b2ca0f5e9432",
   "metadata": {},
   "outputs": [],
   "source": []
  }
 ],
 "metadata": {
  "kernelspec": {
   "display_name": "Python 3 (ipykernel)",
   "language": "python",
   "name": "python3"
  },
  "language_info": {
   "codemirror_mode": {
    "name": "ipython",
    "version": 3
   },
   "file_extension": ".py",
   "mimetype": "text/x-python",
   "name": "python",
   "nbconvert_exporter": "python",
   "pygments_lexer": "ipython3",
   "version": "3.11.7"
  }
 },
 "nbformat": 4,
 "nbformat_minor": 5
}
